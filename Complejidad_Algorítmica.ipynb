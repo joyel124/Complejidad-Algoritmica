{
  "nbformat": 4,
  "nbformat_minor": 0,
  "metadata": {
    "colab": {
      "name": "Complejidad Algorítmica",
      "provenance": [],
      "collapsed_sections": [],
      "authorship_tag": "ABX9TyN0D4oHQxhY1AmdFlrwsU5o",
      "include_colab_link": true
    },
    "kernelspec": {
      "name": "python3",
      "display_name": "Python 3"
    },
    "language_info": {
      "name": "python"
    }
  },
  "cells": [
    {
      "cell_type": "markdown",
      "metadata": {
        "id": "view-in-github",
        "colab_type": "text"
      },
      "source": [
        "<a href=\"https://colab.research.google.com/github/joyel124/Complejidad-Algoritmica/blob/main/Complejidad_Algor%C3%ADtmica.ipynb\" target=\"_parent\"><img src=\"https://colab.research.google.com/assets/colab-badge.svg\" alt=\"Open In Colab\"/></a>"
      ]
    },
    {
      "cell_type": "markdown",
      "source": [
        "#Unidad 1"
      ],
      "metadata": {
        "id": "v6g_JUIrFoAX"
      }
    },
    {
      "cell_type": "markdown",
      "source": [
        "#Semana 1"
      ],
      "metadata": {
        "id": "-V20V5vpFVuA"
      }
    },
    {
      "cell_type": "code",
      "execution_count": 2,
      "metadata": {
        "colab": {
          "base_uri": "https://localhost:8080/"
        },
        "id": "ZAWy7gbwFDfK",
        "outputId": "3ff2331e-9d9c-44d0-c5ef-5c3851369f03"
      },
      "outputs": [
        {
          "output_type": "stream",
          "name": "stdout",
          "text": [
            "hello world\n"
          ]
        }
      ],
      "source": [
        "print(\"hello world\")"
      ]
    },
    {
      "cell_type": "code",
      "source": [
        ""
      ],
      "metadata": {
        "id": "jj1QwhATFziz"
      },
      "execution_count": null,
      "outputs": []
    }
  ]
}